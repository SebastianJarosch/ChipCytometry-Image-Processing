{
 "cells": [
  {
   "cell_type": "markdown",
   "metadata": {},
   "source": [
    "# Clustering of imaging data"
   ]
  },
  {
   "cell_type": "code",
   "execution_count": 1,
   "metadata": {},
   "outputs": [
    {
     "name": "stdout",
     "output_type": "stream",
     "text": [
      "scanpy==1.4.6 anndata==0.7.1 umap==0.3.10 numpy==1.18.1 scipy==1.4.1 pandas==0.25.3 scikit-learn==0.22.2 statsmodels==0.11.1 python-igraph==0.8.0\n"
     ]
    }
   ],
   "source": [
    "import numpy as np                     # scientific computing toolkit\n",
    "import pandas as pd                    # data analysis toolkit\n",
    "import scanpy as sc                    # scanpy is referred to with sc.***\n",
    "import matplotlib.pyplot as plt        # Matplotlib is referred to with plt.***\n",
    "from sklearn import preprocessing\n",
    "from scipy import stats\n",
    "import seaborn as sns\n",
    "import math\n",
    "\n",
    "sc.settings.verbosity = 0              # verbosity: errors (0), warnings (1), info (2), hints (3)\n",
    "sc.logging.print_versions()            # check if all needed versions are installed and up to date"
   ]
  },
  {
   "cell_type": "code",
   "execution_count": 2,
   "metadata": {},
   "outputs": [],
   "source": [
    "sc.settings.set_figure_params(dpi=80, color_map='viridis')"
   ]
  },
  {
   "cell_type": "markdown",
   "metadata": {},
   "source": [
    "## Import and preprocessing:"
   ]
  },
  {
   "cell_type": "markdown",
   "metadata": {},
   "source": [
    "#### Read the files for channels, FL_values and distances generated in ImageJ as pandas DataFrames:"
   ]
  },
  {
   "cell_type": "code",
   "execution_count": 3,
   "metadata": {},
   "outputs": [
    {
     "name": "stderr",
     "output_type": "stream",
     "text": [
      "/Users/Sebastian/miniconda3/lib/python3.7/site-packages/IPython/core/interactiveshell.py:3063: DtypeWarning: Columns (23,24) have mixed types. Specify dtype option on import or set low_memory=False.\n",
      "  interactivity=interactivity, compiler=compiler, result=result)\n"
     ]
    }
   ],
   "source": [
    "data=pd.read_csv('./data/FL_values.csv',)\n",
    "channels=pd.read_csv('./data/channels.csv')\n",
    "gatings=pd.read_csv('./data/gatings.csv',sep=';')\n",
    "gatings=gatings.fillna(0).astype(int)\n",
    "gatings=gatings-1\n",
    "gatings=gatings.astype(str)\n",
    "cellnumber=int(data.shape[0]/channels.shape[0])"
   ]
  },
  {
   "cell_type": "markdown",
   "metadata": {},
   "source": [
    "#### Generate a matrix with the mean intensity values for each channel listed in additional columns and reshape the DataFrame:"
   ]
  },
  {
   "cell_type": "code",
   "execution_count": 4,
   "metadata": {},
   "outputs": [
    {
     "name": "stderr",
     "output_type": "stream",
     "text": [
      "/Users/Sebastian/miniconda3/lib/python3.7/site-packages/ipykernel_launcher.py:4: SettingWithCopyWarning: \n",
      "A value is trying to be set on a copy of a slice from a DataFrame\n",
      "\n",
      "See the caveats in the documentation: http://pandas.pydata.org/pandas-docs/stable/user_guide/indexing.html#returning-a-view-versus-a-copy\n",
      "  after removing the cwd from sys.path.\n"
     ]
    }
   ],
   "source": [
    "matrix=pd.DataFrame(data[:cellnumber])\n",
    "for i in range(0,channels.shape[0]):\n",
    "    matrix[str(channels.iloc[i,0])]=0.000\n",
    "    matrix[str(channels.iloc[i,0])][:cellnumber]=data.Mean[i*cellnumber:(i+1)*cellnumber]"
   ]
  },
  {
   "cell_type": "code",
   "execution_count": 5,
   "metadata": {},
   "outputs": [],
   "source": [
    "#Drop columns which will not be used in the adata object and replace NaN with a 0\n",
    "matrix.fillna(0,inplace=True)\n",
    "matrix_new = matrix.drop(matrix.iloc[:, 0:35], axis=1)\n",
    "matrix.rename(columns={'Circ.':'Circularity'}, inplace=True)\n",
    "matrix_new = matrix_new[matrix_new.columns.drop(list(matrix_new.filter(regex='min_Dist')))]\n",
    "matrix_normalized=matrix_new\n",
    "matrix_normalized.index = pd.RangeIndex(len(matrix_normalized.index))\n",
    "\n",
    "#Normalize the values within each marker \n",
    "for i in range(0,channels.shape[0]):\n",
    "    df=matrix_new[str(channels.iloc[i,0])]\n",
    "    matrix_normalized[str(channels.iloc[i,0])]=(df-df.min())/(df.max()-df.min())*100000\n",
    "\n",
    "#export matrix to read in again as adata object\n",
    "matrix_normalized.to_csv('./export/matrix.csv')"
   ]
  },
  {
   "cell_type": "markdown",
   "metadata": {},
   "source": [
    "#### Read in matrix as scanpy object and save some variables from the initial matrix as adata.obs:"
   ]
  },
  {
   "cell_type": "code",
   "execution_count": null,
   "metadata": {},
   "outputs": [],
   "source": []
  }
 ],
 "metadata": {
  "kernelspec": {
   "display_name": "Python 3",
   "language": "python",
   "name": "python3"
  },
  "language_info": {
   "codemirror_mode": {
    "name": "ipython",
    "version": 3
   },
   "file_extension": ".py",
   "mimetype": "text/x-python",
   "name": "python",
   "nbconvert_exporter": "python",
   "pygments_lexer": "ipython3",
   "version": "3.7.4"
  }
 },
 "nbformat": 4,
 "nbformat_minor": 2
}
