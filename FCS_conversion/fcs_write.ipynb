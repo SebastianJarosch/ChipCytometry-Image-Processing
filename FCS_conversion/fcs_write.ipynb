{
 "cells": [
  {
   "cell_type": "code",
   "execution_count": 1,
   "id": "productive-moral",
   "metadata": {},
   "outputs": [],
   "source": [
    "import pandas as pd\n",
    "import numpy as np\n",
    "import fcswrite\n",
    "\n",
    "def write_fcs_ChipCytometry(FL_values_path, channels_path, additional_channels=['X','Y','Circ.','Area'], output_dir='./'):\n",
    "    \"\"\"Write ChipCytometry data to an .fcs file using fcswrite (FCS3.0 file format)\n",
    "    Parameters\n",
    "    ----------\n",
    "    FL_values_path: str\n",
    "        Path to the FL_values.csv file generated in ImageJ\n",
    "    channels_path: str \n",
    "        Path to the channels.csv file generated in ImageJ\n",
    "    additional_channels: list of str\n",
    "        Additional channels that should be included from the data\n",
    "        file. Default: ['X','Y','Circ.','Area']\n",
    "    output_dir: str\n",
    "        Output directory the fcs file should be written to.\n",
    "        Default: current directory\n",
    "    \"\"\"\n",
    "\n",
    "    data=pd.read_csv(FL_values_path, index_col=0)\n",
    "    channels=pd.read_csv(channels_path)\n",
    "    data.Label=[x[-1][:-5] for x in data.Label.str.split(':')]\n",
    "    additional_channels=additional_channels\n",
    "    format_data=pd.DataFrame()\n",
    "    for channel in data.Label.unique():\n",
    "        format_data[channel]=data.Mean[data.Label==channel].tolist()\n",
    "    format_data.columns=channels.iloc[:,0]\n",
    "    format_data[additional_channels]=data[additional_channels][:format_data.shape[0]]\n",
    "    format_data['Identifier']=pd.Series(range(1,format_data.shape[0]+1))\n",
    "    fcswrite.write_fcs(output_dir+channels.columns.tolist()[0]+'.fcs', chn_names=format_data.columns.tolist(), data=format_data)"
   ]
  },
  {
   "cell_type": "code",
   "execution_count": 2,
   "id": "delayed-boxing",
   "metadata": {},
   "outputs": [
    {
     "name": "stderr",
     "output_type": "stream",
     "text": [
      "C:\\ProgramData\\Miniconda3\\lib\\site-packages\\fcswrite\\fcswrite.py:71: UserWarning: Rows containing NaNs are not written to C:\\Users\\Sebastian\\Desktop\\M733874.fcs!\n",
      "  warnings.warn(msg)\n"
     ]
    }
   ],
   "source": [
    "FL='Path to FL_values.csv'\n",
    "channels='Path to channels.csv'\n",
    "write_fcs_ChipCytometry(FL,channels,output_dir='Output directiry')"
   ]
  },
  {
   "cell_type": "code",
   "execution_count": null,
   "id": "emotional-velvet",
   "metadata": {},
   "outputs": [],
   "source": []
  },
  {
   "cell_type": "code",
   "execution_count": null,
   "id": "trained-birthday",
   "metadata": {},
   "outputs": [],
   "source": []
  }
 ],
 "metadata": {
  "kernelspec": {
   "display_name": "Python 3",
   "language": "python",
   "name": "python3"
  },
  "language_info": {
   "codemirror_mode": {
    "name": "ipython",
    "version": 3
   },
   "file_extension": ".py",
   "mimetype": "text/x-python",
   "name": "python",
   "nbconvert_exporter": "python",
   "pygments_lexer": "ipython3",
   "version": "3.8.5"
  }
 },
 "nbformat": 4,
 "nbformat_minor": 5
}
